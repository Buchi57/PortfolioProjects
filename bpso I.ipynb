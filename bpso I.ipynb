{
 "cells": [
  {
   "cell_type": "markdown",
   "id": "c17089ea-3eb6-4444-8c0d-fc8513e882b1",
   "metadata": {
    "id": "c17089ea-3eb6-4444-8c0d-fc8513e882b1"
   },
   "source": [
    "### Knapsack Problems\n",
    "\n",
    "We start with the definition of the Knapsack problem, the variables involved and the algorithmic layout then we build on it as we go down."
   ]
  },
  {
   "cell_type": "markdown",
   "id": "622216ac-621e-4c72-b5d0-42043840eb7f",
   "metadata": {
    "id": "622216ac-621e-4c72-b5d0-42043840eb7f"
   },
   "source": [
    "We define an $Item$ for which properties (weight, value) of each item are constant."
   ]
  },
  {
   "cell_type": "code",
   "execution_count": 1,
   "id": "8989c5ab-4606-4fc5-9183-691413a5e010",
   "metadata": {
    "id": "8989c5ab-4606-4fc5-9183-691413a5e010"
   },
   "outputs": [],
   "source": [
    "import random\n",
    "import math\n",
    "from itertools import chain"
   ]
  },
  {
   "cell_type": "code",
   "execution_count": 2,
   "id": "06f4c970-cad0-4066-b223-a5a7ad3b7b63",
   "metadata": {
    "id": "06f4c970-cad0-4066-b223-a5a7ad3b7b63"
   },
   "outputs": [],
   "source": [
    "class Item:\n",
    "    def __init__(self, weight, value, quantity=0):\n",
    "        self.weight = weight        # rho, pj\n",
    "        self.value = value          # wj\n",
    "        self.quantity = quantity    # how many of this item should be placed in Knapsack?\n",
    "    \n",
    "    def __sub__(self, other):\n",
    "        return Item(self.weight, self.value - other.value)"
   ]
  },
  {
   "cell_type": "markdown",
   "id": "0d3e4b03-bc8a-462a-b706-e5586277a011",
   "metadata": {
    "id": "0d3e4b03-bc8a-462a-b706-e5586277a011"
   },
   "source": [
    "### Bounded Knapsack Problem\n",
    "Given a bound $h_j$ on identical copies of items $j$ available with weight $w_j$ amd $\\rho_j$"
   ]
  },
  {
   "cell_type": "markdown",
   "id": "5eb4133d-28c1-40d4-bd6d-157b67af69fb",
   "metadata": {
    "id": "5eb4133d-28c1-40d4-bd6d-157b67af69fb"
   },
   "source": [
    "maximize\n",
    "\\begin{equation}\n",
    "f = \\sum_{j=1}^{n} \\rho_j k_j\n",
    "\\end{equation}\n",
    "subject to\n",
    "\\begin{equation}\n",
    "\\sum_{j=1}^{n} w_j k_j \\le C,\n",
    "\\end{equation}\n",
    "where\n",
    "\\begin{equation}\n",
    "0 \\le k_j \\le h_j, \\\\ \n",
    "h_j \\in \\mathbb{Z}, \\\\\n",
    "j = 1, 2, 3 ... n\n",
    "\\end{equation}"
   ]
  },
  {
   "cell_type": "markdown",
   "id": "cfb5ab1c-a21e-4ad1-a281-6d888ea2c922",
   "metadata": {
    "id": "cfb5ab1c-a21e-4ad1-a281-6d888ea2c922"
   },
   "source": [
    "This cannot be solved by any algorithm in polynomial time"
   ]
  },
  {
   "cell_type": "markdown",
   "id": "b846bce9-20fc-4249-aba0-d985d38f98b8",
   "metadata": {
    "id": "b846bce9-20fc-4249-aba0-d985d38f98b8",
    "tags": []
   },
   "source": [
    "### Binary Particle Swarm Optimization"
   ]
  },
  {
   "cell_type": "markdown",
   "id": "J7iDiW8TFG6R",
   "metadata": {
    "id": "J7iDiW8TFG6R"
   },
   "source": [
    "# Paper Approach"
   ]
  },
  {
   "cell_type": "markdown",
   "id": "wWZx0txdj81G",
   "metadata": {
    "id": "wWZx0txdj81G"
   },
   "source": [
    "## BKP GROA"
   ]
  },
  {
   "cell_type": "code",
   "execution_count": 3,
   "id": "3eceeaeb-16cf-490b-b2e2-8f5187618c55",
   "metadata": {
    "id": "3eceeaeb-16cf-490b-b2e2-8f5187618c55"
   },
   "outputs": [],
   "source": [
    "from typing import Tuple\n",
    "def bkp_groa(X: list, H: list, C: int) -> Tuple[list, float]:\n",
    "    \"\"\"\n",
    "    X: Potential solution. List of Items\n",
    "    H: Index of all items sorted in descending order.\n",
    "    C: Knapsack capacity\n",
    "    \"\"\"    \n",
    "    N = len(X)\n",
    "    fweight = sum([x.weight*x.value for x in X])\n",
    "    j = N - 1\n",
    "\n",
    "    while fweight > C:\n",
    "        x = X[H[j]]\n",
    "        if x.value == 1:\n",
    "            x.value = 0\n",
    "            fweight -= x.weight\n",
    "        j -= 1\n",
    "\n",
    "    for j in range(N):\n",
    "        x = X[H[j]]\n",
    "        if x.value == 0 and fweight + x.weight <= C:\n",
    "            x.value = 1\n",
    "            fweight += x.weight\n",
    "    \n",
    "    return X, fweight"
   ]
  },
  {
   "cell_type": "markdown",
   "id": "8FozFhbbkBmg",
   "metadata": {
    "id": "8FozFhbbkBmg"
   },
   "source": [
    "## Particle"
   ]
  },
  {
   "cell_type": "code",
   "execution_count": 4,
   "id": "iPAAW6fOFPu6",
   "metadata": {
    "id": "iPAAW6fOFPu6"
   },
   "outputs": [],
   "source": [
    "class Particle(Item):\n",
    "    def __init__(self, weight, value, quantity, dimension, vmax, c1, c2, W=[]):\n",
    "        \"\"\"\n",
    "        Weight of Particle\n",
    "        Value of Particle\n",
    "        Dimension or Size of Population\n",
    "        Vmax: used for initializing particle velocity\n",
    "        $c_1, c_2$: Acceleration constants\n",
    "        W:  weights\n",
    "        \"\"\"\n",
    "        # $X = x_1, x_2, ... x_n$\n",
    "        self.X = [self.create_item(W[i]) for i in range(dimension)] \n",
    "        # $V = v_1, v_2, ... v_n$\n",
    "        self.velocity = [random.uniform(-vmax, vmax) for i in range(dimension)]\n",
    "        # $P = p_1, p_2, ... p_n$ Algorithm 2, line 2\n",
    "        self.local_best_position = self.X.copy()\n",
    "\n",
    "        Item.__init__(self, weight, value)\n",
    "        \n",
    "        self.n = dimension\n",
    "        self.c1 = c1\n",
    "        self.c2 = c2\n",
    "\n",
    "        self.fW = None\n",
    "    \n",
    "    def create_item(self, weight):\n",
    "        \"\"\"\n",
    "        For initializing particles current position.\n",
    "        \"\"\"\n",
    "        value = random.randint(0, 1)\n",
    "        return Item(weight, value)\n",
    "\n",
    "    @property\n",
    "    def f(self):\n",
    "        \"\"\"\n",
    "        returns the minimum position $p_i$\n",
    "        \"\"\"\n",
    "        return min(self.local_best_position, key=lambda i: i.value)\n",
    "\n",
    "    \n",
    "    def update_current_velocity(self, global_best_position: float):\n",
    "        \"\"\"\n",
    "        global_best_position: a scalar\n",
    "        \"\"\"\n",
    "        self.pg = global_best_position\n",
    "        velocity = [self.evaluate(r) for r in range(self.n)]\n",
    "        self.velocity = velocity\n",
    "    \n",
    "    def evaluate(self, j):\n",
    "        \"\"\"\n",
    "        Main Paper uses \n",
    "        $r_{1j}$ and $r_{2j}$ for q1, q2\n",
    "        \"\"\"\n",
    "        q1 = random.uniform(0, 1)\n",
    "        q2 = random.uniform(0, 1)\n",
    "\n",
    "        return self.velocity[j] + \\\n",
    "            self.c1 * q1 * (self.local_best_position[j] - self.X[j]).value + \\\n",
    "            self.c2 * q2 * (self.pg - self.X[j]).value \n",
    "    \n",
    "    def update_current_position(self):\n",
    "        \"\"\"\"\"\"\n",
    "        self.q3 = random.uniform(0, 1)\n",
    "        for j, item in enumerate(self.X):\n",
    "            item.value = self.eval2(j)\n",
    "    \n",
    "    def eval2(self, j):\n",
    "        sig = self.sigmoid(j)\n",
    "        if sig <= self.q3:\n",
    "            return 0\n",
    "        else:\n",
    "            return 1\n",
    "    \n",
    "    def sigmoid(self, j):\n",
    "        k = self.velocity[j]\n",
    "        return 1/(1 + math.exp(-k))\n",
    "    \n",
    "    @property\n",
    "    def density(self):\n",
    "        \"\"\"\n",
    "        performs $p_i/w_i$\n",
    "        Where $p_i$ is gotten from self.f\n",
    "\n",
    "        version 2 self.value/self.weight\n",
    "        \"\"\"\n",
    "        return self.value/self.weight\n",
    "    \n",
    "    def update_local_best_position(self):\n",
    "        \"\"\"\n",
    "        Equation 3 and algorithm seem different, using algorithm for now\n",
    "        \"\"\"\n",
    "        f = self.f\n",
    "        if self.f_X.value > f.value:\n",
    "            self.local_best_position = self.X\n",
    "        # else:\n",
    "        #     doesn't change\n",
    "        #     self.local_best_position = self.local_best_position\n",
    "    \n",
    "    @property\n",
    "    def f_X(self):\n",
    "        \"\"\"\n",
    "        $f(X_i)$\n",
    "        Implemented as minimum of $X_i$\n",
    "        \"\"\"\n",
    "        return min(self.X, key=lambda i: i.value)"
   ]
  },
  {
   "cell_type": "markdown",
   "id": "I0ivJNike3l7",
   "metadata": {
    "id": "I0ivJNike3l7"
   },
   "source": [
    "## BPSO"
   ]
  },
  {
   "cell_type": "markdown",
   "id": "v8uHkh0g8djl",
   "metadata": {
    "id": "v8uHkh0g8djl"
   },
   "source": [
    "#### Test Data"
   ]
  },
  {
   "cell_type": "code",
   "execution_count": 5,
   "id": "DZVBL11o8jBG",
   "metadata": {
    "id": "DZVBL11o8jBG"
   },
   "outputs": [],
   "source": [
    "MaxIter = 2         # number of iterations\n",
    "c1, c2 = 1.8, 1.8   # acceleration constants\n",
    "vmax = 1.0          # Used in setting velocity\n",
    "\n",
    "C = 141152 # Knapsack capacity\n",
    "profits = [816,959,885,653,810,978,350,61,228,639,520,286,581,597,891,94,925,13,\n",
    "          766,808,23,1003,482,65,865,196,357,840,623,344,424,457,924,354,433,\n",
    "          347,627,302,672,179,574,419,172,592,420,920,566,784,432,660,57,91,88,\n",
    "          624,791,727,227,824,312,459,918,475,759,1001,913,366,61,789,85,679,\n",
    "          994,891,289,313,112,528,254,740,83,431,1007,151,454,135,309,688,576,\n",
    "          955,218,114,391,530,389,817,963,440,397,338,230,173]\n",
    "\n",
    "weights = [806,949,875,643,800,968,340,51,218,629,510,276,571,587,881,84,915,3,\n",
    "          756,798,13,993,472,55,855,186,347,830,613,334,414,447,914,344,423,\n",
    "          337,617,292,662,169,564,409,162,582,410,910,556,774,422,650,47,81,78,\n",
    "          614,781,717,217,814,302,449,908,465,749,991,903,356,51,779,75,669,984,\n",
    "          881,279,303,102,518,244,730,73,421,997,141,444,125,299,678,566,945,\n",
    "          208,104,381,520,379,807,953,430,387,328,220,163]\n",
    "bounds = [8,1,2,9,7,5,6,2,6,9,3,3,9,2,4,8,1,1,1,9,6,8,9,1,8,5,9,8,1,5,1,1,2,3,9,\n",
    "         5,7,8,7,3,8,1,3,6,7,7,5,5,9,5,8,6,5,5,6,8,1,2,1,6,6,7,4,9,2,5,6,8,1,9,\n",
    "         7,1,1,5,8,9,2,9,9,8,5,3,3,5,3,1,6,5,1,5,8,2,2,2,1,4,5,8,2,6]"
   ]
  },
  {
   "cell_type": "markdown",
   "id": "lGybkINW8gOh",
   "metadata": {
    "id": "lGybkINW8gOh"
   },
   "source": [
    "#### Code"
   ]
  },
  {
   "cell_type": "code",
   "execution_count": 6,
   "id": "KOVuNKzGGj9R",
   "metadata": {
    "colab": {
     "base_uri": "https://localhost:8080/"
    },
    "executionInfo": {
     "elapsed": 3949,
     "status": "ok",
     "timestamp": 1656333275350,
     "user": {
      "displayName": "Felix Sihitshuwam",
      "userId": "18333252842844821544"
     },
     "user_tz": -180
    },
    "id": "KOVuNKzGGj9R",
    "outputId": "3996456b-f662-4429-ae47-2b8f210fbb4f"
   },
   "outputs": [
    {
     "name": "stdout",
     "output_type": "stream",
     "text": [
      "Initial number of selected items based on best global position: 237\n",
      "\n",
      "Starting optimisation.\n",
      "Iteration: 0\n",
      "Iteration: 1\n",
      "Iteration: 2\n",
      "Finished Optimisation.\n",
      "\n",
      "346 items chosen out of 499 items\n",
      "Total profit of available items: 261631\n",
      "Sum of profits of items in knapsack: 144051\n",
      "Sum of weights of items in knapsack: 140591\n",
      "Capacity of Knapsack: 141152\n"
     ]
    }
   ],
   "source": [
    "_profits = list(chain.from_iterable([[j]*bounds[i] for i, j in enumerate(profits)]))\n",
    "_weights = list(chain.from_iterable([[j]*bounds[i] for i, j in enumerate(weights)]))\n",
    "_bounds = [1]*sum(bounds)\n",
    "\n",
    "# Population size, used in paper\n",
    "N = len(_profits)\n",
    "################################################################################\n",
    "# N random particles\n",
    "#(self, weight, value, quantity, dimension, vmax, z1, z2):\n",
    "Ps = [Particle(w, p, b, N, vmax, c1, c2, _weights) for p, w, b in zip(_profits, _weights, _bounds)]\n",
    "\n",
    "# TODO Instead of using H, we could sort Ps and access in accending or descending order.\n",
    "H = [(i, j) for i, j in enumerate(Ps)]\n",
    "H = sorted(H, key = lambda i: i[1].density, reverse=True) # where i is (index, particle)\n",
    "H = [i for i, j in H]\n",
    "\n",
    "# TODO calculate $P_g$\n",
    "# global best position made up of the local best positions. It is thus N x N?\n",
    "Pg = max(Ps, key=lambda p: p.f.value).local_best_position # List of Items\n",
    "# print(Pg)\n",
    "_d = sum([i.value for i in Pg])\n",
    "print(f\"Initial number of selected items based on best global position: {_d}\")\n",
    "# Optimal Solutions\n",
    "\n",
    "t = 0\n",
    "\n",
    "print(\"\\nStarting optimisation.\")\n",
    "while (t <= MaxIter):\n",
    "    print(f\"Iteration: {t}\")\n",
    "    for i in range(N):\n",
    "        particle = Ps[i]\n",
    "        # update velocity\n",
    "        particle.update_current_velocity(Pg[i])\n",
    "        # update position\n",
    "        particle.update_current_position()\n",
    "        particle.X, particle.fW = bkp_groa(particle.X, H, C)\n",
    "        \n",
    "        particle.update_local_best_position()\n",
    "    p = max([(i, p.f) for i, p in enumerate(Ps)], key=lambda j: j[1].value)\n",
    "    p = Ps[p[0]]\n",
    "    Pg = p.local_best_position\n",
    "    t += 1 \n",
    "print(\"Finished Optimisation.\\n\")\n",
    "vals = [i.value for i in Pg]\n",
    "print(f\"{sum(vals)} items chosen out of {N} items\")\n",
    "\n",
    "_Ps = [p for p, _p in zip(Ps, vals) if _p == 1]\n",
    "profs = [p.value for p in _Ps]\n",
    "ws = [p.weight for p in _Ps]\n",
    "print(f\"Total profit of available items: {sum(_profits)}\")\n",
    "print(f\"Sum of profits of items in knapsack: {sum(profs)}\")\n",
    "# From section 2 Paragraph 1 sum of weights should not exceed knapsack capacity\n",
    "print(f\"Sum of weights of items in knapsack: {sum(ws)}\")\n",
    "print(f\"Capacity of Knapsack: {C}\")"
   ]
  },
  {
   "cell_type": "code",
   "execution_count": null,
   "id": "QmUI0bjYJ_fW",
   "metadata": {
    "id": "QmUI0bjYJ_fW"
   },
   "outputs": [],
   "source": []
  }
 ],
 "metadata": {
  "colab": {
   "collapsed_sections": [
    "0d3e4b03-bc8a-462a-b706-e5586277a011",
    "wWZx0txdj81G",
    "v8uHkh0g8djl"
   ],
   "name": "bpso_2.ipynb",
   "provenance": [
    {
     "file_id": "1yktVA-jKcRQBNrRhzg_3rnplWp57nHbe",
     "timestamp": 1656323103070
    }
   ]
  },
  "kernelspec": {
   "display_name": "Python 3 (ipykernel)",
   "language": "python",
   "name": "python3"
  },
  "language_info": {
   "codemirror_mode": {
    "name": "ipython",
    "version": 3
   },
   "file_extension": ".py",
   "mimetype": "text/x-python",
   "name": "python",
   "nbconvert_exporter": "python",
   "pygments_lexer": "ipython3",
   "version": "3.11.5"
  }
 },
 "nbformat": 4,
 "nbformat_minor": 5
}
